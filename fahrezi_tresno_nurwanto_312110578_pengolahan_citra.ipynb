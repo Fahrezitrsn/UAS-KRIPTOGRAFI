{
  "nbformat": 4,
  "nbformat_minor": 0,
  "metadata": {
    "colab": {
      "provenance": [],
      "authorship_tag": "ABX9TyP/4wucX8lQgUwRUmo67mrD",
      "include_colab_link": true
    },
    "kernelspec": {
      "name": "python3",
      "display_name": "Python 3"
    },
    "language_info": {
      "name": "python"
    }
  },
  "cells": [
    {
      "cell_type": "markdown",
      "metadata": {
        "id": "view-in-github",
        "colab_type": "text"
      },
      "source": [
        "<a href=\"https://colab.research.google.com/github/Fahrezitrsn/UTS-KRIPTOGRAFI/blob/main/fahrezi_tresno_nurwanto_312110578_pengolahan_citra.ipynb\" target=\"_parent\"><img src=\"https://colab.research.google.com/assets/colab-badge.svg\" alt=\"Open In Colab\"/></a>"
      ]
    },
    {
      "cell_type": "code",
      "source": [
        "import cv2\n",
        "from matplotlib import pyplot as plt\n",
        "\n",
        "\n",
        "gambar = cv2.imread('path/to/your/image.jpg')\n",
        "\n",
        "gambar_abu = cv2.cvtColor(gambar, cv2.COLOR_BGR2GRAY)\n",
        "\n",
        "plt.subplot(1, 2, 1)\n",
        "plt.imshow(cv2.cvtColor(gambar, cv2.COLOR_BGR2RGB))\n",
        "plt.title('Gambar Asli')\n",
        "\n",
        "\n",
        "plt.subplot(1, 2, 2)\n",
        "plt.imshow(gambar_abu, cmap='gray')\n",
        "plt.title('Citra Abu-abu')\n",
        "\n",
        "plt.show()\n"
      ],
      "metadata": {
        "id": "67Vueth68ozw"
      },
      "execution_count": null,
      "outputs": []
    }
  ]
}